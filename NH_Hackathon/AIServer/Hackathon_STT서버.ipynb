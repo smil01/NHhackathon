{
 "cells": [
  {
   "cell_type": "markdown",
   "metadata": {},
   "source": [
    "### 인스톨"
   ]
  },
  {
   "cell_type": "code",
   "execution_count": 1,
   "metadata": {},
   "outputs": [
    {
     "name": "stdout",
     "output_type": "stream",
     "text": [
      "Requirement already satisfied: SpeechRecognition in c:\\users\\user\\anaconda3\\lib\\site-packages (3.8.1)\n"
     ]
    }
   ],
   "source": [
    "!pip install SpeechRecognition"
   ]
  },
  {
   "cell_type": "markdown",
   "metadata": {},
   "source": [
    "### 임포트"
   ]
  },
  {
   "cell_type": "code",
   "execution_count": 1,
   "metadata": {},
   "outputs": [
    {
     "data": {
      "text/plain": [
       "'3.8.1'"
      ]
     },
     "execution_count": 1,
     "metadata": {},
     "output_type": "execute_result"
    }
   ],
   "source": [
    "from socket import *\n",
    "import os, re, glob\n",
    "import numpy as np\n",
    "import pandas as pd\n",
    "\n",
    "import speech_recognition as sr\n",
    "sr.__version__"
   ]
  },
  {
   "cell_type": "markdown",
   "metadata": {},
   "source": [
    "### 서버설정"
   ]
  },
  {
   "cell_type": "code",
   "execution_count": 2,
   "metadata": {},
   "outputs": [],
   "source": [
    "serverSock = socket(AF_INET, SOCK_STREAM)\n",
    "serverSock.bind(('', 5556))\n",
    "serverSock.listen(1)"
   ]
  },
  {
   "cell_type": "code",
   "execution_count": 3,
   "metadata": {},
   "outputs": [],
   "source": [
    "r = sr.Recognizer()"
   ]
  },
  {
   "cell_type": "code",
   "execution_count": 4,
   "metadata": {},
   "outputs": [],
   "source": [
    "def stt(fileName):\n",
    "    harvard = sr.AudioFile(fileName)\n",
    "    with harvard as source:\n",
    "        audio = r.record(source)\n",
    "    return r.recognize_google(audio, language='ko-KR')"
   ]
  },
  {
   "cell_type": "markdown",
   "metadata": {},
   "source": [
    "### 서버구동"
   ]
  },
  {
   "cell_type": "code",
   "execution_count": null,
   "metadata": {},
   "outputs": [
    {
     "name": "stdout",
     "output_type": "stream",
     "text": [
      "('127.0.0.1', 49789) 에서 접속이 확인되었습니다.\n",
      "받은 데이터 :  C:\\Users\\user\\eclipse-workspace\\.metadata\\.plugins\\org.eclipse.wst.server.core\\tmp0\\wtpwebapps\\NH_Hackathon_Chat\\upload\\test.wav\n",
      "음성인식 데이터 :  안녕하세요 안녕하세요 안녕하세요 안녕하세요 안녕하세요 안녕하세요 안녕하세요 안녕하세요 안녕하세요 안녕하세요 안녕하세요 안녕하세요 안녕하세요 안녕하세요 안녕하세요 안녕하세요 안녕하세요 안녕하세요 안녕하세요 안녕하세요 안녕하세요 안녕하세요 안녕하세요 안녕하세요 안녕하세요 안녕하세요 안녕하세요 안녕하세요 안녕하세요 안녕하세요 안녕하세요 안녕하세요 안녕하세요\n",
      "결과를 전송했습니다. \n",
      "\n",
      "('127.0.0.1', 49933) 에서 접속이 확인되었습니다.\n",
      "받은 데이터 :  C:\\Users\\user\\eclipse-workspace\\.metadata\\.plugins\\org.eclipse.wst.server.core\\tmp0\\wtpwebapps\\NH_Hackathon_Chat\\upload\\test.wav\n",
      "음성인식 데이터 :  안녕하세요 안녕하세요 안녕하세요 안녕하세요 안녕하세요 안녕하세요 안녕하세요 안녕하세요 안녕하세요 안녕하세요 안녕하세요 안녕하세요 안녕하세요 안녕하세요 안녕하세요 안녕하세요 안녕하세요 안녕하세요 안녕하세요 안녕하세요 안녕하세요 안녕하세요 안녕하세요 안녕하세요 안녕하세요 안녕하세요 안녕하세요 안녕하세요 안녕하세요 안녕하세요 안녕하세요 안녕하세요 안녕하세요\n",
      "결과를 전송했습니다. \n",
      "\n",
      "('127.0.0.1', 49967) 에서 접속이 확인되었습니다.\n",
      "받은 데이터 :  C:\\Users\\user\\eclipse-workspace\\.metadata\\.plugins\\org.eclipse.wst.server.core\\tmp0\\wtpwebapps\\NH_Hackathon_Chat\\upload\\test.wav\n"
     ]
    }
   ],
   "source": [
    "data = \"start\"\n",
    "\n",
    "try:\n",
    "    while data != \"end\" :\n",
    "        connectionSock, addr = serverSock.accept()\n",
    "        print(str(addr),'에서 접속이 확인되었습니다.')\n",
    "\n",
    "        data = connectionSock.recv(1024).decode('utf-8')\n",
    "        print('받은 데이터 : ', data)\n",
    "#####################################분류 결정부####################################\n",
    "        result_data = stt(data)\n",
    "        print('음성인식 데이터 : ', result_data)\n",
    "        result = result_data +'\\n'\n",
    "#####################################################################################\n",
    "        connectionSock.send(result.encode('utf-8'))\n",
    "        print('결과를 전송했습니다. \\n')\n",
    "except Exception as e:\n",
    "    print(e)\n",
    "    \n",
    "print(\"########################음성인식서버종료########################\")"
   ]
  },
  {
   "cell_type": "code",
   "execution_count": null,
   "metadata": {},
   "outputs": [],
   "source": []
  }
 ],
 "metadata": {
  "kernelspec": {
   "display_name": "Python 3",
   "language": "python",
   "name": "python3"
  },
  "language_info": {
   "codemirror_mode": {
    "name": "ipython",
    "version": 3
   },
   "file_extension": ".py",
   "mimetype": "text/x-python",
   "name": "python",
   "nbconvert_exporter": "python",
   "pygments_lexer": "ipython3",
   "version": "3.7.3"
  }
 },
 "nbformat": 4,
 "nbformat_minor": 2
}
